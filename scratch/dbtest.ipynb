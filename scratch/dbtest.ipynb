{
 "cells": [
  {
   "cell_type": "code",
   "execution_count": 1,
   "metadata": {},
   "outputs": [],
   "source": [
    "import sqlite3\n",
    "import pandas as pd\n",
    "import sys\n",
    "sys.path.append('/home/el_hudson/projects/HUBRIS/web/logic/')\n",
    "from character import Character,generate_abilities\n",
    "\n",
    "path=\"/home/el_hudson/projects/HUBRIS/HUBRIS.db\"\n",
    "con=sqlite3.connect(path)"
   ]
  },
  {
   "cell_type": "code",
   "execution_count": 2,
   "metadata": {},
   "outputs": [
    {
     "name": "stdout",
     "output_type": "stream",
     "text": [
      "backgrounds\n",
      "made it here\n",
      "backgrounds\n",
      "made it here\n",
      "class_features\n",
      "made it here\n",
      "class_features\n",
      "made it here\n",
      "classes\n",
      "made it here\n",
      "skills\n",
      "made it here\n"
     ]
    }
   ],
   "source": [
    "a=Character(\"El\",con)"
   ]
  },
  {
   "cell_type": "code",
   "execution_count": 25,
   "metadata": {},
   "outputs": [
    {
     "data": {
      "text/plain": [
       "<character.Character at 0x7f622fbd5c30>"
      ]
     },
     "execution_count": 25,
     "metadata": {},
     "output_type": "execute_result"
    }
   ],
   "source": [
    "a"
   ]
  },
  {
   "cell_type": "code",
   "execution_count": 3,
   "metadata": {},
   "outputs": [
    {
     "data": {
      "text/plain": [
       "[<processing.background at 0x7fdc74381ba0>,\n",
       " <processing.background at 0x7fdc74382440>,\n",
       " <processing.class_feature at 0x7fdc2cab6ad0>,\n",
       " <processing.class_feature at 0x7fdc2cab66e0>,\n",
       " <processing.pcclass at 0x7fdc2cab73d0>,\n",
       " <processing.skill_proficiency at 0x7fdc76d93df0>]"
      ]
     },
     "execution_count": 3,
     "metadata": {},
     "output_type": "execute_result"
    }
   ],
   "source": [
    "a.abilities"
   ]
  },
  {
   "cell_type": "code",
   "execution_count": 36,
   "metadata": {},
   "outputs": [],
   "source": [
    "a.define_abilities(con)"
   ]
  },
  {
   "cell_type": "code",
   "execution_count": 31,
   "metadata": {},
   "outputs": [
    {
     "data": {
      "text/plain": [
       "'d337469c-51a9-4e1b-ab60-3712745f1c28,83c7f04e-d03f-478a-b7c2-04c173c640d7,02d62c46-a238-4170-9644-6ac3de7662fb,6b484d06-7af3-4598-9999-3a55e8405bdf,63237e64-e287-4619-a286-e62e0d52ee4a,4e229802-ec97-4144-93ff-0ae863e98eb2'"
      ]
     },
     "execution_count": 31,
     "metadata": {},
     "output_type": "execute_result"
    }
   ],
   "source": [
    "a.ability_ids"
   ]
  },
  {
   "cell_type": "code",
   "execution_count": null,
   "metadata": {},
   "outputs": [
    {
     "data": {
      "text/plain": [
       "str"
      ]
     },
     "execution_count": 11,
     "metadata": {},
     "output_type": "execute_result"
    }
   ],
   "source": [
    "type(a.ability_ids)"
   ]
  },
  {
   "cell_type": "code",
   "execution_count": 32,
   "metadata": {},
   "outputs": [],
   "source": [
    "ids=a.ability_ids.split(\",\")"
   ]
  },
  {
   "cell_type": "code",
   "execution_count": 37,
   "metadata": {},
   "outputs": [
    {
     "data": {
      "text/plain": [
       "[]"
      ]
     },
     "execution_count": 37,
     "metadata": {},
     "output_type": "execute_result"
    }
   ],
   "source": [
    "generate_abilities(ids,con)"
   ]
  },
  {
   "cell_type": "code",
   "execution_count": null,
   "metadata": {},
   "outputs": [],
   "source": []
  }
 ],
 "metadata": {
  "kernelspec": {
   "display_name": "Python 3",
   "language": "python",
   "name": "python3"
  },
  "language_info": {
   "codemirror_mode": {
    "name": "ipython",
    "version": 3
   },
   "file_extension": ".py",
   "mimetype": "text/x-python",
   "name": "python",
   "nbconvert_exporter": "python",
   "pygments_lexer": "ipython3",
   "version": "3.10.7"
  },
  "orig_nbformat": 4,
  "vscode": {
   "interpreter": {
    "hash": "3ad933181bd8a04b432d3370b9dc3b0662ad032c4dfaa4e4f1596c548f763858"
   }
  }
 },
 "nbformat": 4,
 "nbformat_minor": 2
}
